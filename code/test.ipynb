{
 "cells": [
  {
   "cell_type": "code",
   "execution_count": 1,
   "metadata": {
    "collapsed": true
   },
   "outputs": [],
   "source": [
    "import cv2\n",
    "import numpy as np\n",
    "import glob, os"
   ]
  },
  {
   "cell_type": "code",
   "execution_count": 3,
   "metadata": {
    "collapsed": true
   },
   "outputs": [],
   "source": [
    "# Check the percent of hero pictures \n",
    "data_dir = \"../data/train\"\n",
    "mask_dir = \"../data/train/masks\"\n",
    "img_dir = \"../data/train/images\"\n",
    "mask_path = os.path.join(mask_dir, \"*.png\")\n",
    "img_path = os.path.join(img_dir, \"*.png\")"
   ]
  },
  {
   "cell_type": "code",
   "execution_count": 2,
   "metadata": {},
   "outputs": [
    {
     "name": "stdout",
     "output_type": "stream",
     "text": [
      "44.49213161659514 percent of files contain the hero\n",
      "100.0 percent of files contain people\n"
     ]
    }
   ],
   "source": [
    "total_files = 0\n",
    "total_hero = 0\n",
    "total_num = 0\n",
    "\n",
    "for file in glob.glob(mask_path):\n",
    "    total_files +=1\n",
    "    img = cv2.imread(file)\n",
    "    blue = img[:,:,0]\n",
    "    green = img[:,0,:]\n",
    "\n",
    "    if np.any(blue == 255):\n",
    "        total_hero += 1\n",
    "    if np.any(blue == 255) or np.any(green == 255):\n",
    "        total_num += 1\n",
    "\n",
    "percent_hero = 100. * total_hero / total_files\n",
    "percent_num = 100. * total_num / total_files\n",
    "\n",
    "print (percent_hero, \"percent of files contain the hero\")\n",
    "print(percent_num, \"percent of files contain people\")"
   ]
  },
  {
   "cell_type": "code",
   "execution_count": 24,
   "metadata": {},
   "outputs": [
    {
     "data": {
      "text/plain": [
       "'../data/train/masks/*.png'"
      ]
     },
     "execution_count": 24,
     "metadata": {},
     "output_type": "execute_result"
    }
   ],
   "source": [
    "mask_path"
   ]
  },
  {
   "cell_type": "code",
   "execution_count": 11,
   "metadata": {},
   "outputs": [
    {
     "name": "stdout",
     "output_type": "stream",
     "text": [
      "0 4893\n"
     ]
    }
   ],
   "source": [
    "# data cleaner masks images\n",
    "\n",
    "\n",
    "# 0_run2_cam1_00000.jpeg\n",
    "# 0_run2_mask_00000.png\n",
    "total_num = 0\n",
    "file_num = 0\n",
    "for file in glob.glob(mask_path):\n",
    "    total_num += 1\n",
    "    img = cv2.imread(file)\n",
    "    red = img[0,:,:]\n",
    "    blue = img[:,:,0]\n",
    "    green = img[:,0,:]\n",
    "    \n",
    "    if not (np.any(blue>50) or np.any(green>50)):\n",
    "        file_num += 1\n",
    "        \n",
    "print(file_num, total_num)\n"
   ]
  }
 ],
 "metadata": {
  "kernelspec": {
   "display_name": "Python 3",
   "language": "python",
   "name": "python3"
  },
  "language_info": {
   "codemirror_mode": {
    "name": "ipython",
    "version": 3
   },
   "file_extension": ".py",
   "mimetype": "text/x-python",
   "name": "python",
   "nbconvert_exporter": "python",
   "pygments_lexer": "ipython3",
   "version": "3.5.2"
  },
  "widgets": {
   "state": {},
   "version": "1.1.2"
  }
 },
 "nbformat": 4,
 "nbformat_minor": 2
}
